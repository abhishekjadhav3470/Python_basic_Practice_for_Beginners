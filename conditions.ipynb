{
 "cells": [
  {
   "cell_type": "code",
   "execution_count": 13,
   "metadata": {},
   "outputs": [],
   "source": [
    "a = 10\n",
    "if  a>10:\n",
    "    print(\"The will execute once a is greater than 10\")"
   ]
  },
  {
   "cell_type": "code",
   "execution_count": 14,
   "metadata": {},
   "outputs": [
    {
     "data": {
      "text/plain": [
       "False"
      ]
     },
     "execution_count": 14,
     "metadata": {},
     "output_type": "execute_result"
    }
   ],
   "source": [
    "a > 10"
   ]
  },
  {
   "cell_type": "code",
   "execution_count": 15,
   "metadata": {},
   "outputs": [
    {
     "name": "stdout",
     "output_type": "stream",
     "text": [
      "This will be executed only when if fails\n"
     ]
    }
   ],
   "source": [
    "a = 10\n",
    "if  a>10:\n",
    "    print(\"The will execute once a is greater than 10\")\n",
    "else:\n",
    "    print(\"This will be executed only when if fails\")"
   ]
  },
  {
   "cell_type": "code",
   "execution_count": 16,
   "metadata": {},
   "outputs": [
    {
     "name": "stdout",
     "output_type": "stream",
     "text": [
      "this is trying to check a condition\n"
     ]
    }
   ],
   "source": [
    "if  a>10:\n",
    "    print(\"The will execute once a is greater than 10\")\n",
    "elif a<=10:\n",
    "    print(\"this is trying to check a condition\")\n",
    "else:\n",
    "    print(\"This will be executed only when if fails\")"
   ]
  },
  {
   "cell_type": "code",
   "execution_count": 17,
   "metadata": {},
   "outputs": [
    {
     "name": "stdout",
     "output_type": "stream",
     "text": [
      "this is trying to check a condition\n"
     ]
    }
   ],
   "source": [
    "a = int(input(\"enter a value for a = \"))\n",
    "if  a>10:\n",
    "    print(\"The will execute once a is greater than 10\")\n",
    "elif a<=10:\n",
    "    print(\"this is trying to check a condition\")\n",
    "else:\n",
    "    print(\"This will be executed only when if fails\")"
   ]
  },
  {
   "cell_type": "code",
   "execution_count": 22,
   "metadata": {},
   "outputs": [
    {
     "name": "stdout",
     "output_type": "stream",
     "text": [
      "1\n",
      "2\n",
      "3\n",
      "4\n",
      "5\n",
      "6\n",
      "7\n",
      "8\n",
      "9\n"
     ]
    }
   ],
   "source": [
    "n = 10\n",
    "i =1\n",
    "\n",
    "while i<n:\n",
    "    print(i)\n",
    "    i +=1\n"
   ]
  },
  {
   "cell_type": "code",
   "execution_count": 23,
   "metadata": {},
   "outputs": [
    {
     "name": "stdout",
     "output_type": "stream",
     "text": [
      "1\n",
      "2\n",
      "3\n",
      "4\n",
      "5\n",
      "6\n",
      "7\n",
      "8\n",
      "9\n",
      "Code executed successfully\n"
     ]
    }
   ],
   "source": [
    "n = 10\n",
    "i =1\n",
    "\n",
    "while i<n:\n",
    "    print(i)\n",
    "    i +=1\n",
    "else:\n",
    "    print(\"Code executed successfully\")"
   ]
  },
  {
   "cell_type": "code",
   "execution_count": 25,
   "metadata": {},
   "outputs": [
    {
     "name": "stdout",
     "output_type": "stream",
     "text": [
      "1\n",
      "2\n"
     ]
    }
   ],
   "source": [
    "n = 10\n",
    "i =1\n",
    "\n",
    "while i<n:\n",
    "    print(i)\n",
    "    i +=1\n",
    "    if i == 3:\n",
    "        break ## this breaks the entire loops\n",
    "else:\n",
    "    print(\"Code executed successfully\")"
   ]
  },
  {
   "cell_type": "code",
   "execution_count": null,
   "metadata": {},
   "outputs": [],
   "source": []
  }
 ],
 "metadata": {
  "kernelspec": {
   "display_name": "base",
   "language": "python",
   "name": "python3"
  },
  "language_info": {
   "codemirror_mode": {
    "name": "ipython",
    "version": 3
   },
   "file_extension": ".py",
   "mimetype": "text/x-python",
   "name": "python",
   "nbconvert_exporter": "python",
   "pygments_lexer": "ipython3",
   "version": "3.11.5"
  }
 },
 "nbformat": 4,
 "nbformat_minor": 2
}
