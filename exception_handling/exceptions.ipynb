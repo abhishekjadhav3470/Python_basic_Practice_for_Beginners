{
 "cells": [
  {
   "cell_type": "code",
   "execution_count": 1,
   "metadata": {},
   "outputs": [],
   "source": [
    "a = 10 "
   ]
  },
  {
   "cell_type": "code",
   "execution_count": 2,
   "metadata": {},
   "outputs": [
    {
     "ename": "ZeroDivisionError",
     "evalue": "division by zero",
     "output_type": "error",
     "traceback": [
      "\u001b[1;31m---------------------------------------------------------------------------\u001b[0m",
      "\u001b[1;31mZeroDivisionError\u001b[0m                         Traceback (most recent call last)",
      "\u001b[1;32mc:\\Users\\vaishnavi sahu\\Desktop\\Abhishek\\Python_practice\\exception_handling\\exceptions.ipynb Cell 2\u001b[0m line \u001b[0;36m1\n\u001b[1;32m----> <a href='vscode-notebook-cell:/c%3A/Users/vaishnavi%20sahu/Desktop/Abhishek/Python_practice/exception_handling/exceptions.ipynb#W1sZmlsZQ%3D%3D?line=0'>1</a>\u001b[0m a\u001b[39m/\u001b[39m\u001b[39m0\u001b[39m\n",
      "\u001b[1;31mZeroDivisionError\u001b[0m: division by zero"
     ]
    }
   ],
   "source": [
    "a/0"
   ]
  },
  {
   "cell_type": "code",
   "execution_count": 11,
   "metadata": {},
   "outputs": [],
   "source": [
    "f = open(\"text.txt\", \"r\")"
   ]
  },
  {
   "cell_type": "code",
   "execution_count": 18,
   "metadata": {},
   "outputs": [
    {
     "name": "stdout",
     "output_type": "stream",
     "text": [
      "this is exception\n"
     ]
    },
    {
     "data": {
      "text/plain": [
       "10"
      ]
     },
     "execution_count": 18,
     "metadata": {},
     "output_type": "execute_result"
    }
   ],
   "source": [
    "try:\n",
    "    f = open(\"text.txt\", \"w\")\n",
    "except Exception as e:\n",
    "    print(\"there is some issue with my code\", e)\n",
    "print(\"this is exception\")\n",
    "a =10 \n",
    "a"
   ]
  },
  {
   "cell_type": "code",
   "execution_count": 19,
   "metadata": {},
   "outputs": [
    {
     "name": "stdout",
     "output_type": "stream",
     "text": [
      "this block will execute itself once try block will excute itself without an exception\n"
     ]
    }
   ],
   "source": [
    "try:\n",
    "    f = open(\"text.txt\", \"w\")\n",
    "    f.write(\"this is my written file\")\n",
    "except Exception as e:\n",
    "    print(\"there is some issue with my code\", e)\n",
    "else: \n",
    "    f.close()\n",
    "    print(\"this block will execute itself once try block will excute itself without an exception\")"
   ]
  },
  {
   "cell_type": "code",
   "execution_count": 20,
   "metadata": {},
   "outputs": [
    {
     "name": "stdout",
     "output_type": "stream",
     "text": [
      "there is some issue with my code [Errno 2] No such file or directory: 'text1.txt'\n"
     ]
    }
   ],
   "source": [
    "try:\n",
    "    f = open(\"text1.txt\", \"r\")\n",
    "    f.write(\"this is my written file\")\n",
    "except Exception as e:\n",
    "    print(\"there is some issue with my code\", e)\n",
    "else: \n",
    "    f.close()\n",
    "    print(\"this block will execute itself once try block will excute itself without an exception\")"
   ]
  },
  {
   "cell_type": "code",
   "execution_count": 15,
   "metadata": {},
   "outputs": [],
   "source": [
    "f.close()"
   ]
  },
  {
   "cell_type": "code",
   "execution_count": null,
   "metadata": {},
   "outputs": [],
   "source": []
  },
  {
   "cell_type": "code",
   "execution_count": null,
   "metadata": {},
   "outputs": [],
   "source": []
  },
  {
   "cell_type": "code",
   "execution_count": null,
   "metadata": {},
   "outputs": [],
   "source": []
  }
 ],
 "metadata": {
  "kernelspec": {
   "display_name": "base",
   "language": "python",
   "name": "python3"
  },
  "language_info": {
   "codemirror_mode": {
    "name": "ipython",
    "version": 3
   },
   "file_extension": ".py",
   "mimetype": "text/x-python",
   "name": "python",
   "nbconvert_exporter": "python",
   "pygments_lexer": "ipython3",
   "version": "3.11.5"
  }
 },
 "nbformat": 4,
 "nbformat_minor": 2
}
